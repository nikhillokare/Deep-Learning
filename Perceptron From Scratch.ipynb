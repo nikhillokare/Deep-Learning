{
 "cells": [
  {
   "cell_type": "code",
   "execution_count": 1,
   "id": "338c3cfe-f6f2-4a02-9f17-b60763232bda",
   "metadata": {},
   "outputs": [],
   "source": [
    "import numpy as np"
   ]
  },
  {
   "cell_type": "markdown",
   "id": "1e02b7e3-d9a0-4e8d-96fa-ce8147c83543",
   "metadata": {},
   "source": [
    "## Sigmoid Perceptron  Class"
   ]
  },
  {
   "cell_type": "code",
   "execution_count": 3,
   "id": "bfb88ec8-2230-43e2-a9de-a22873203407",
   "metadata": {},
   "outputs": [],
   "source": [
    "class SigmoidPerceptron():\n",
    "    \n",
    "    def __init__(self,input_size):\n",
    "        self.weights = np.random.randn(input_size)\n",
    "        self.bias = np.random.randn(1)\n",
    "        \n",
    "    def sigmoid(self,z):\n",
    "        return 1/(1 + np.exp(-z))\n",
    "        \n",
    "    def predict(self,inputs):\n",
    "        weighted_sum = np.dot(inputs,self.weights) + self.bias\n",
    "        return self.sigmoid(weighted_sum)\n",
    "        \n",
    "    def fit(self,inputs,targets, learning_rate,num_epochs):\n",
    "        num_examples = inputs.shape[0]\n",
    "        \n",
    "        for epoch in range(num_epochs):\n",
    "            for i in range(num_examples):\n",
    "                input_vector = inputs[i]\n",
    "                target = targets[i]\n",
    "                prediction = self.predict(input_vector)\n",
    "                error = target  - prediction\n",
    "                \n",
    "                #updates weights\n",
    "                gradient_weights = error * prediction *(1-prediction) * input_vector\n",
    "                self.weights += learning_rate * gradient_weights\n",
    "                \n",
    "                #upadte bias\n",
    "                gradient_bias = error * prediction * (1 - prediction)\n",
    "                self.bias += learning_rate + gradient_bias\n",
    "        \n",
    "    def evaluate(self,inputs,targets):\n",
    "        correct = 0\n",
    "        \n",
    "        for input_vector, target in zip(inputs,targets):\n",
    "            prediction = self.predict(input_vector)\n",
    "            \n",
    "            if prediction >= 0.5:\n",
    "                predicted_class = 1\n",
    "            else:\n",
    "                predicted_class = 0\n",
    "                \n",
    "            if predicted_class == target:\n",
    "                correct += 1\n",
    "                \n",
    "            accuracy = correct/len(inputs)\n",
    "            return accuracy\n",
    "        "
   ]
  },
  {
   "cell_type": "code",
   "execution_count": 4,
   "id": "a91721fc-8974-4cb3-82be-2c04b8251ec9",
   "metadata": {},
   "outputs": [
    {
     "name": "stdout",
     "output_type": "stream",
     "text": [
      "10 0.2\n",
      "20 0.3\n",
      "30 0.4\n"
     ]
    }
   ],
   "source": [
    "l1 = [10,20,30]\n",
    "l2 = [0.2,0.3,0.4]\n",
    "\n",
    "for val1,val2 in zip(l1,l2):\n",
    "    print(val1,val2)"
   ]
  },
  {
   "cell_type": "code",
   "execution_count": null,
   "id": "9ee8bcab-c834-43f7-a0b0-2843fdeb2f35",
   "metadata": {},
   "outputs": [],
   "source": []
  }
 ],
 "metadata": {
  "kernelspec": {
   "display_name": "Python 3 (ipykernel)",
   "language": "python",
   "name": "python3"
  },
  "language_info": {
   "codemirror_mode": {
    "name": "ipython",
    "version": 3
   },
   "file_extension": ".py",
   "mimetype": "text/x-python",
   "name": "python",
   "nbconvert_exporter": "python",
   "pygments_lexer": "ipython3",
   "version": "3.10.8"
  }
 },
 "nbformat": 4,
 "nbformat_minor": 5
}
